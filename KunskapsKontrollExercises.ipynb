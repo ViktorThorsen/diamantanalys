{
 "cells": [
  {
   "attachments": {},
   "cell_type": "markdown",
   "id": "4afff373-ff68-4fad-8087-3fab7edb7d08",
   "metadata": {},
   "source": [
    "# Vad är skillnaden på en tuple och list i Python? Är den ena datatypen bättre än den andra?\n",
    "\n"
   ]
  },
  {
   "cell_type": "markdown",
   "id": "78d62597-f79f-47b1-8920-41a3fdd3d125",
   "metadata": {},
   "source": [
    "Skillnaden är att en list är mutable, vilket innebär att värden i den kan ändras, En tuple däremot är immutable och går inte att ändra."
   ]
  },
  {
   "cell_type": "markdown",
   "id": "5484091e-d8f0-4dc7-84f2-5bd9c94eeeb3",
   "metadata": {},
   "source": [
    "# Vad är en funktion för något? Varför kan funktioner vara användbara?"
   ]
  },
  {
   "cell_type": "markdown",
   "id": "3f13878e-4693-4603-b734-14ef01ffe045",
   "metadata": {},
   "source": [
    "En funktion är ett stycke kod som kan köras flera gånger, den kan ropas på genom ett call och den kan vid behov ta emot en input och ge tillbaka en output"
   ]
  },
  {
   "cell_type": "markdown",
   "id": "0bb00f10-1a67-4362-bfb5-f2772d0f4d90",
   "metadata": {},
   "source": [
    "# Förklara vad nedanstående begrepp, kopplat till klasser, betyder:"
   ]
  },
  {
   "cell_type": "markdown",
   "id": "f2a22785-ec79-492f-b6eb-d250e7cc920c",
   "metadata": {},
   "source": [
    "a) Instans"
   ]
  },
  {
   "cell_type": "markdown",
   "id": "ca32d23a-b8c1-4945-b79c-fdbc8292d1db",
   "metadata": {},
   "source": [
    "En instans är ett objekt av klassen, så tex kan man skapa en klass som heter Apple som kan innhålla olika attribut, tex price, color. Jag kan då skapa en instans av klassen där jag bestämmer att price är 10kr och color är röd. Sedan kan jag skapa ytterligare en instans som representerar ett annnat äpple som kostar 5kr och är grönt."
   ]
  },
  {
   "cell_type": "markdown",
   "id": "8a69b674-1824-4f43-ad87-95d6895c87fe",
   "metadata": {},
   "source": [
    "b) Attribut"
   ]
  },
  {
   "cell_type": "markdown",
   "id": "8c9911bf-3c6a-4a8f-976f-04cd6af90094",
   "metadata": {},
   "source": [
    "Atributen är de värden som klassen kan innehålla tex price och color."
   ]
  },
  {
   "cell_type": "markdown",
   "id": "262780a5-3af6-49ec-bd0e-7cd820c33b7a",
   "metadata": {},
   "source": [
    "c) Metod"
   ]
  },
  {
   "cell_type": "markdown",
   "id": "2c49081f-78d0-48a7-9df5-34c6c9abdcdc",
   "metadata": {},
   "source": [
    "En metod är en funktion som är byggd i en klass."
   ]
  },
  {
   "cell_type": "markdown",
   "id": "3709e7a6-a4d0-4877-90f5-90205524db0e",
   "metadata": {},
   "source": [
    "# Vad är Streamlit för något?"
   ]
  },
  {
   "cell_type": "markdown",
   "id": "ee148f67-264f-40d1-9f78-742f56dfedd7",
   "metadata": {},
   "source": [
    "Streamlit är ett python ramverk, det kan användas för att skapa webbapplikationer."
   ]
  },
  {
   "cell_type": "markdown",
   "id": "73ab99e7-a98a-45fe-8ff4-a7c5714a54ea",
   "metadata": {},
   "source": [
    "# I Python ska du nu:"
   ]
  },
  {
   "cell_type": "markdown",
   "id": "2bb1e0ac-d54e-4b8c-9422-e2e6677a000b",
   "metadata": {},
   "source": [
    "a) Skapa en klass som heter BankAccount. Klassen skall ha attributet \"account_holder\" som visar kontoinnehavarens namn samt attributet \"balance\" som visar kontoinnehavarens balans. Klassen skall ha metoden \"deposit()\" för att kunna sätta in pengar på kontot samt metoden \"withdraw()\" för att kunna ta ut pengar från kontot. Om bankinnehavaren försöker ta ut mer pengar än vad som finns på kontot skall meddelandet \"Too low balance\" printas ut."
   ]
  },
  {
   "cell_type": "code",
   "execution_count": 2,
   "id": "3f01d8a4-e37b-4bac-b650-463b36cdc0ae",
   "metadata": {},
   "outputs": [],
   "source": [
    "class BankAccount():\n",
    "    def __init__(self, account_holder, balance):\n",
    "        self.account_holder = account_holder\n",
    "        self.balance = balance\n",
    "\n",
    "    def deposit(self, cash):\n",
    "        self.balance += cash\n",
    "        print(f\"Your balance is now {self.balance}\")\n",
    "\n",
    "    def withdraw(self, cash):\n",
    "        if self.balance - cash > 0:\n",
    "           self.balance -= cash\n",
    "           print(f\"Your balance is now {self.balance}\")\n",
    "        else:\n",
    "            print(\"Too low balance\")"
   ]
  },
  {
   "cell_type": "markdown",
   "id": "3ad13097-3eac-40dd-a392-f76712180862",
   "metadata": {},
   "source": [
    "b) Skapa en instans av klassen och testa så klassen funkar så som du förväntar dig. Du kan till exempel prova printa ut attributen, sätta in pengar och ta ut pengar."
   ]
  },
  {
   "cell_type": "code",
   "execution_count": 3,
   "id": "092c8bb2-62c6-4845-a37f-86cad9ffdb0d",
   "metadata": {},
   "outputs": [
    {
     "name": "stdout",
     "output_type": "stream",
     "text": [
      "Your balance is now 1100\n",
      "Your balance is now 900\n",
      "Too low balance\n"
     ]
    }
   ],
   "source": [
    "my_bank_account = BankAccount(\"Viktor\", 1000)\n",
    "my_bank_account.deposit(100)\n",
    "my_bank_account.withdraw(200)\n",
    "my_bank_account.withdraw(1100)"
   ]
  },
  {
   "cell_type": "markdown",
   "id": "eff1f1be-a7a5-476e-bcea-6d869ee20333",
   "metadata": {},
   "source": [
    "# På intervjuer brukar ibland kodtest genomföras. Här är ett exempel på en fråga som hade kunnat dyka upp på ett kodtest. Skapa en Python funktion som beräknar antalet vokaler i en sträng. Vokalerna är: A, E, I, O, U, Y, Å, Ä och Ö."
   ]
  },
  {
   "cell_type": "code",
   "execution_count": 4,
   "id": "3eb31224-e1b1-472b-bfe9-8d3d30d5c3ca",
   "metadata": {},
   "outputs": [
    {
     "name": "stdout",
     "output_type": "stream",
     "text": [
      "2\n",
      "7\n"
     ]
    }
   ],
   "source": [
    "def vokaler(text):\n",
    "    vokaler = \"aeiouyåäöAEIOUYÅÄÖ\"\n",
    "    antal = sum(1 for bokstav in text if bokstav in vokaler)\n",
    "    return antal\n",
    "\n",
    "print(vokaler(\"hjälpa\"))\n",
    "print(vokaler(\"audioinspelning\"))"
   ]
  },
  {
   "cell_type": "markdown",
   "id": "1be058e2-2636-48de-9a37-4e695f0de28e",
   "metadata": {},
   "source": [
    "# På intervjuer brukar ibland kodtest genomföras. Här är ett exempel på en fråga som hade kunnat dyka upp på ett kodtest. Skapa en funktion som tar två listor som argument och returnerar de gemensamma elementen i listorna i en ny lista. Exempelvis: common_elements([4, ’apple’, 10, ’hi’, 3], ([23 ’apple’, 5, 9, 3]) ska returnera svaret [’apple’, 3]."
   ]
  },
  {
   "cell_type": "code",
   "execution_count": 7,
   "id": "d6775ae9-0a77-4c84-bc6f-5b9b1068d3c8",
   "metadata": {},
   "outputs": [
    {
     "name": "stdout",
     "output_type": "stream",
     "text": [
      "{'nej'}\n"
     ]
    }
   ],
   "source": [
    "def commons(list1, list2):\n",
    "    result_list = list1.intersection(list2)\n",
    "    return result_list\n",
    "\n",
    "my_first_list = [1,\"hej\", 5, \"nej\"]\n",
    "my_second_list = [4, \"nej\", 7, 9]\n",
    "result_list = commons(set(my_first_list),set(my_second_list))\n",
    "print(result_list)"
   ]
  },
  {
   "cell_type": "markdown",
   "id": "066aa818-632d-4ec7-9513-c579d1984771",
   "metadata": {},
   "source": [
    "# Många barn tror att de blev till genom att en stork kom och lämnade dem till deras föräldrar. För att undersöka det kan vi kolla på data och det finns en graf enligt figuren nedan. Det verkar alltså finnas ett samband mellan antalet storkar och barnafödsel!? Stämmer påståendet? Använd begreppet ”kausalitet” i ditt svar."
   ]
  },
  {
   "cell_type": "markdown",
   "id": "e1195957-ef10-4265-83c5-720116af82d3",
   "metadata": {},
   "source": [
    "Det kan finnas ett samband mellan antalet storkar och barnafödsel, men det betyder inte att storkarna orsakar att barn föds. Sambandet beror troligen på en tredje faktor, till exempel att ju mer storkar det finns desto mer kommer dom föröka sig, det samma gäller människor. Det finns alltså ingen kausalitet mellan storkar och barnafödsel."
   ]
  },
  {
   "cell_type": "markdown",
   "id": "d0e8d85b-d716-4e29-9489-5f2e70becdf9",
   "metadata": {},
   "source": [
    "# Kalle påstår att ”medelvärdet” är ett bättre mått än ”medianvärdet”. Håller du med Kalle?"
   ]
  },
  {
   "cell_type": "markdown",
   "id": "092dcee3-d778-46f3-927d-19b22728c4c4",
   "metadata": {},
   "source": [
    "Det beror på vilken i vilken samband värdena används. Om det till exempel är stor spridning i beräkningsdatan så så visar medelvärdet ofta ett mindre korrekt värde.\n",
    "Säg att vi har en lista med tal 44, 45, 50, 120  medelvärdet blir då 64,75 medans medianen blir 47,5 vilket stämmer bättre som en beskrivning av talföljdens mitt.\n"
   ]
  },
  {
   "cell_type": "markdown",
   "id": "2d277438-47cf-43a5-99db-ea753dcafe62",
   "metadata": {},
   "source": [
    "# Vad används cirkeldiagram för? Ge ett exempel på vad ett företag som Spotify (eller något annat företag som du själv väljer) hade kunnat använda cirkeldiagram för."
   ]
  },
  {
   "cell_type": "markdown",
   "id": "21454ada-52ea-4bf3-83a5-8e6f09c21c7b",
   "metadata": {},
   "source": [
    "Cirkeldiagram är bra för att representera procent där 100% är hela cirkeln. Spotify hade kunnat använda det för att skapa en överblick över hur många procent av användarna som använder spotify premium. Om tex 25% av användarna använder premium så hade 75% av cirkeln varit en grupp som inte använder premium och resten(25%) hade representerat premium användare.  "
   ]
  },
  {
   "cell_type": "markdown",
   "id": "f13d7995-40c2-487f-a164-ee2a73074432",
   "metadata": {},
   "source": [
    "# Vad används linjediagram för? Ge ett exempel på vad ett företag som Spotify (eller något annat företag som du själv väljer) hade kunnat använda linjediagram för."
   ]
  },
  {
   "cell_type": "markdown",
   "id": "fee40c79-57c5-40b6-a68d-a1acd8e19088",
   "metadata": {
    "scrolled": true
   },
   "source": [
    "Linjediagram används för att visa hur något förändras över tid. Spotify hade kunnat använda linjediagram för att få en överblick över hur många användare apllikationen har över tid. Man hade tex kunnat se hur ökningen mellan 2020 till 2025 ser ut och planera och använda den datan för framtiden."
   ]
  },
  {
   "cell_type": "markdown",
   "id": "858c7aa1-1709-4340-a7a3-931020e7ce66",
   "metadata": {},
   "source": [
    "# Vad används lådagram för?"
   ]
  },
  {
   "cell_type": "markdown",
   "id": "ecb315de-8997-44d3-8434-25cce4bc6ef7",
   "metadata": {},
   "source": [
    "Det används för att visa spridningen och fördelningen av en datamängd"
   ]
  }
 ],
 "metadata": {
  "kernelspec": {
   "display_name": ".venv",
   "language": "python",
   "name": "python3"
  },
  "language_info": {
   "codemirror_mode": {
    "name": "ipython",
    "version": 3
   },
   "file_extension": ".py",
   "mimetype": "text/x-python",
   "name": "python",
   "nbconvert_exporter": "python",
   "pygments_lexer": "ipython3",
   "version": "3.13.3"
  }
 },
 "nbformat": 4,
 "nbformat_minor": 5
}
